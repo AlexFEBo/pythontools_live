{
 "cells": [
  {
   "cell_type": "code",
   "execution_count": null,
   "id": "a19ccf11-0d29-4272-9542-4a2448654527",
   "metadata": {},
   "outputs": [],
   "source": [
    "conda install -c conda-forge jupyterlab-git -y"
   ]
  },
  {
   "cell_type": "code",
   "execution_count": null,
   "id": "1e3f9849-12a2-4fca-988d-880c91cda14f",
   "metadata": {},
   "outputs": [],
   "source": [
    "conda install -c conda-forge jupyterlab-spellchecker -y"
   ]
  },
  {
   "cell_type": "code",
   "execution_count": null,
   "id": "aa6272fb-fb57-473f-b60f-056a8c493b40",
   "metadata": {},
   "outputs": [],
   "source": [
    "pwd"
   ]
  },
  {
   "cell_type": "code",
   "execution_count": null,
   "id": "2ee0769b-2c44-402c-b755-bb8e603d1b4c",
   "metadata": {},
   "outputs": [],
   "source": [
    "%%bash\n",
    "ls"
   ]
  },
  {
   "cell_type": "code",
   "execution_count": null,
   "id": "36405926-9abc-49b8-b88a-5b32cb68fe79",
   "metadata": {},
   "outputs": [],
   "source": [
    "ls"
   ]
  },
  {
   "cell_type": "code",
   "execution_count": null,
   "id": "69916940-ecf1-4325-9d0a-ce550cc695cc",
   "metadata": {},
   "outputs": [],
   "source": [
    "import numpy as np"
   ]
  },
  {
   "cell_type": "code",
   "execution_count": null,
   "id": "0c976aa1-fe74-4d13-82a4-44ab0956f804",
   "metadata": {},
   "outputs": [],
   "source": [
    "b = 5\n",
    "c = 3\n",
    "\n",
    "a = b + c\n",
    "\n",
    "def myfunc (a=3, b=2):\n",
    "    return a+b"
   ]
  },
  {
   "cell_type": "code",
   "execution_count": null,
   "id": "26f9d072-7168-4c23-8e1c-785d40d0a787",
   "metadata": {},
   "outputs": [],
   "source": [
    "myfunc(a,b)"
   ]
  },
  {
   "cell_type": "markdown",
   "id": "bb2f1037-c6df-4c03-aa93-ff2fea8dd7e1",
   "metadata": {},
   "source": [
    "# Main title\n",
    "\n",
    "## My subtitle\n",
    "\n",
    "This is my text.\n",
    "This is my **bold text**.\n",
    "This is my *italic text*.\n",
    "\n",
    "- apples\n",
    "- oranges\n",
    "\n",
    "1. first\n",
    "2. second\n",
    "\n",
    "This is [my link](address)"
   ]
  },
  {
   "cell_type": "code",
   "execution_count": null,
   "id": "20dcdfa4-a8c9-42ec-9b17-05e594fb4cbb",
   "metadata": {},
   "outputs": [],
   "source": []
  }
 ],
 "metadata": {
  "kernelspec": {
   "display_name": "Python 3 (ipykernel)",
   "language": "python",
   "name": "python3"
  },
  "language_info": {
   "codemirror_mode": {
    "name": "ipython",
    "version": 3
   },
   "file_extension": ".py",
   "mimetype": "text/x-python",
   "name": "python",
   "nbconvert_exporter": "python",
   "pygments_lexer": "ipython3",
   "version": "3.9.16"
  }
 },
 "nbformat": 4,
 "nbformat_minor": 5
}
